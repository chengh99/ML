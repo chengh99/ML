{
 "cells": [
  {
   "cell_type": "code",
   "execution_count": 1,
   "metadata": {},
   "outputs": [],
   "source": [
    "import pandas as pd\n",
    "import numpy as np\n",
    "import matplotlib.pyplot as plt\n",
    "import matplotlib.image as mpimg\n",
    "%matplotlib inline\n",
    "\n",
    "from os import listdir\n",
    "from os.path import isfile, isdir, join, splitext\n",
    "import random\n",
    "import tensorflow as tf\n",
    "from sklearn.preprocessing import LabelEncoder\n",
    "from PIL import Image\n",
    "from skimage.transform import rescale, resize, downscale_local_mean\n",
    "from skimage import data, color\n"
   ]
  },
  {
   "cell_type": "code",
   "execution_count": 2,
   "metadata": {},
   "outputs": [],
   "source": [
    "# /train/ contains the training set images, named according to subject_imageNum.tif. Every image with the same subject number comes from the same person. This folder also includes binary mask images showing the BP segmentations.\n",
    "# /test/ contains the test set images, named according to imageNum.tif. You must predict the BP segmentation for these images and are not provided a subject number. There is no overlap between the subjects in the training and test sets.\n",
    "# train_masks.csv gives the training image masks in run-length encoded format. This is provided as a convenience to demonstrate how to turn image masks into encoded text values for submission.\n",
    "# sample_submission.csv shows the correct submission file format.\n",
    "train = pd.read_csv(\"train_index.csv\")\n",
    "n_train = train.shape[0]\n",
    "\n",
    "test = pd.read_csv(\"test_index.csv\")\n",
    "n_test = test.shape[0]"
   ]
  },
  {
   "cell_type": "code",
   "execution_count": 3,
   "metadata": {},
   "outputs": [
    {
     "data": {
      "text/html": [
       "<div>\n",
       "<style scoped>\n",
       "    .dataframe tbody tr th:only-of-type {\n",
       "        vertical-align: middle;\n",
       "    }\n",
       "\n",
       "    .dataframe tbody tr th {\n",
       "        vertical-align: top;\n",
       "    }\n",
       "\n",
       "    .dataframe thead th {\n",
       "        text-align: right;\n",
       "    }\n",
       "</style>\n",
       "<table border=\"1\" class=\"dataframe\">\n",
       "  <thead>\n",
       "    <tr style=\"text-align: right;\">\n",
       "      <th></th>\n",
       "      <th>Image</th>\n",
       "      <th>Mask</th>\n",
       "    </tr>\n",
       "  </thead>\n",
       "  <tbody>\n",
       "    <tr>\n",
       "      <th>0</th>\n",
       "      <td>10_100.tif</td>\n",
       "      <td>10_100_mask.tif</td>\n",
       "    </tr>\n",
       "    <tr>\n",
       "      <th>1</th>\n",
       "      <td>10_101.tif</td>\n",
       "      <td>10_101_mask.tif</td>\n",
       "    </tr>\n",
       "    <tr>\n",
       "      <th>2</th>\n",
       "      <td>10_102.tif</td>\n",
       "      <td>10_102_mask.tif</td>\n",
       "    </tr>\n",
       "  </tbody>\n",
       "</table>\n",
       "</div>"
      ],
      "text/plain": [
       "        Image             Mask\n",
       "0  10_100.tif  10_100_mask.tif\n",
       "1  10_101.tif  10_101_mask.tif\n",
       "2  10_102.tif  10_102_mask.tif"
      ]
     },
     "execution_count": 3,
     "metadata": {},
     "output_type": "execute_result"
    }
   ],
   "source": [
    "# Debug Sanity check\n",
    "train.head(3)"
   ]
  },
  {
   "cell_type": "code",
   "execution_count": 4,
   "metadata": {},
   "outputs": [
    {
     "data": {
      "text/html": [
       "<div>\n",
       "<style scoped>\n",
       "    .dataframe tbody tr th:only-of-type {\n",
       "        vertical-align: middle;\n",
       "    }\n",
       "\n",
       "    .dataframe tbody tr th {\n",
       "        vertical-align: top;\n",
       "    }\n",
       "\n",
       "    .dataframe thead th {\n",
       "        text-align: right;\n",
       "    }\n",
       "</style>\n",
       "<table border=\"1\" class=\"dataframe\">\n",
       "  <thead>\n",
       "    <tr style=\"text-align: right;\">\n",
       "      <th></th>\n",
       "      <th>Image</th>\n",
       "      <th>Mask</th>\n",
       "    </tr>\n",
       "  </thead>\n",
       "  <tbody>\n",
       "    <tr>\n",
       "      <th>5625</th>\n",
       "      <td>9_91.tif</td>\n",
       "      <td>9_91_mask.tif</td>\n",
       "    </tr>\n",
       "    <tr>\n",
       "      <th>5626</th>\n",
       "      <td>9_92.tif</td>\n",
       "      <td>9_92_mask.tif</td>\n",
       "    </tr>\n",
       "    <tr>\n",
       "      <th>5627</th>\n",
       "      <td>9_93.tif</td>\n",
       "      <td>9_93_mask.tif</td>\n",
       "    </tr>\n",
       "    <tr>\n",
       "      <th>5628</th>\n",
       "      <td>9_94.tif</td>\n",
       "      <td>9_94_mask.tif</td>\n",
       "    </tr>\n",
       "    <tr>\n",
       "      <th>5629</th>\n",
       "      <td>9_95.tif</td>\n",
       "      <td>9_95_mask.tif</td>\n",
       "    </tr>\n",
       "    <tr>\n",
       "      <th>5630</th>\n",
       "      <td>9_96.tif</td>\n",
       "      <td>9_96_mask.tif</td>\n",
       "    </tr>\n",
       "    <tr>\n",
       "      <th>5631</th>\n",
       "      <td>9_97.tif</td>\n",
       "      <td>9_97_mask.tif</td>\n",
       "    </tr>\n",
       "    <tr>\n",
       "      <th>5632</th>\n",
       "      <td>9_98.tif</td>\n",
       "      <td>9_98_mask.tif</td>\n",
       "    </tr>\n",
       "    <tr>\n",
       "      <th>5633</th>\n",
       "      <td>9_99.tif</td>\n",
       "      <td>9_99_mask.tif</td>\n",
       "    </tr>\n",
       "    <tr>\n",
       "      <th>5634</th>\n",
       "      <td>9_9.tif</td>\n",
       "      <td>9_9_mask.tif</td>\n",
       "    </tr>\n",
       "  </tbody>\n",
       "</table>\n",
       "</div>"
      ],
      "text/plain": [
       "         Image           Mask\n",
       "5625  9_91.tif  9_91_mask.tif\n",
       "5626  9_92.tif  9_92_mask.tif\n",
       "5627  9_93.tif  9_93_mask.tif\n",
       "5628  9_94.tif  9_94_mask.tif\n",
       "5629  9_95.tif  9_95_mask.tif\n",
       "5630  9_96.tif  9_96_mask.tif\n",
       "5631  9_97.tif  9_97_mask.tif\n",
       "5632  9_98.tif  9_98_mask.tif\n",
       "5633  9_99.tif  9_99_mask.tif\n",
       "5634   9_9.tif   9_9_mask.tif"
      ]
     },
     "execution_count": 4,
     "metadata": {},
     "output_type": "execute_result"
    }
   ],
   "source": [
    "# Debug Sanity check\n",
    "test.tail(10)"
   ]
  },
  {
   "cell_type": "code",
   "execution_count": 5,
   "metadata": {},
   "outputs": [],
   "source": [
    "ims_train = []\n",
    "for i in train['Image']:\n",
    "    a = Image.open('images/train/' + i)\n",
    "    a = a.resize((32,32))\n",
    "    a=np.array(a)\n",
    "    ims_train.append(a)\n",
    "ims_train = np.array(ims_train)\n",
    "ims_train = ims_train.reshape(-1, 32,32, 1)\n",
    "ims_train = ims_train/255\n",
    "ims_train = np.array( ims_train, dtype=np.float32 )\n"
   ]
  },
  {
   "cell_type": "code",
   "execution_count": 6,
   "metadata": {},
   "outputs": [
    {
     "data": {
      "text/plain": [
       "(5635, 32, 32, 1)"
      ]
     },
     "execution_count": 6,
     "metadata": {},
     "output_type": "execute_result"
    }
   ],
   "source": [
    "# Debug\n",
    "ims_train.shape"
   ]
  },
  {
   "cell_type": "code",
   "execution_count": 7,
   "metadata": {},
   "outputs": [],
   "source": [
    "ms_train = []\n",
    "for i in train['Mask']:\n",
    "    a = Image.open('images/train/' + i)\n",
    "    a = a.resize((32,32))\n",
    "    a=np.array(a)\n",
    "    ms_train.append(a)\n",
    "ms_train = np.array(ms_train)\n",
    "ms_train = ms_train.reshape(-1, 32,32, 1)\n",
    "ms_train = ms_train/255\n",
    "ms_train = np.array(ms_train, dtype=np.float32 )"
   ]
  },
  {
   "cell_type": "code",
   "execution_count": 8,
   "metadata": {},
   "outputs": [
    {
     "data": {
      "text/plain": [
       "(5635, 32, 32, 1)"
      ]
     },
     "execution_count": 8,
     "metadata": {},
     "output_type": "execute_result"
    }
   ],
   "source": [
    "# Debug\n",
    "ms_train.shape"
   ]
  },
  {
   "cell_type": "code",
   "execution_count": 9,
   "metadata": {},
   "outputs": [
    {
     "data": {
      "text/plain": [
       "(5635, 32, 32, 1)"
      ]
     },
     "execution_count": 9,
     "metadata": {},
     "output_type": "execute_result"
    }
   ],
   "source": [
    "ims_test = []\n",
    "for i in test['Image']:\n",
    "    a = Image.open('images/train/' + i)\n",
    "    a = a.resize((32,32))\n",
    "    a=np.array(a)\n",
    "    ims_test.append(a)\n",
    "ims_test = np.array(ims_test)\n",
    "ims_test = ims_test.reshape(-1, 32,32,1)\n",
    "ims_test = ims_test/255\n",
    "ims_test = np.array( ims_test, dtype=np.float32 ) \n",
    "ims_test.shape"
   ]
  },
  {
   "cell_type": "code",
   "execution_count": 10,
   "metadata": {},
   "outputs": [
    {
     "data": {
      "text/plain": [
       "(5635, 32, 32, 1)"
      ]
     },
     "execution_count": 10,
     "metadata": {},
     "output_type": "execute_result"
    }
   ],
   "source": [
    "ms_test = []\n",
    "for i in test['Mask']:\n",
    "    a = Image.open('images/train/' + i)\n",
    "    a = a.resize((32,32))\n",
    "    a=np.array(a)\n",
    "    ms_test.append(a)\n",
    "ms_test = np.array(ms_test)\n",
    "ms_test = ms_test.reshape(-1, 32,32,1)\n",
    "ms_test = ms_test/255\n",
    "ms_test = np.array(ms_test, dtype=np.float32 ) \n",
    "ms_test.shape"
   ]
  },
  {
   "cell_type": "code",
   "execution_count": 18,
   "metadata": {},
   "outputs": [
    {
     "data": {
      "text/plain": [
       "<matplotlib.image.AxesImage at 0x1c21f94198>"
      ]
     },
     "execution_count": 18,
     "metadata": {},
     "output_type": "execute_result"
    },
    {
     "data": {
      "image/png": "[encoded data removed]",
      "text/plain": [
       "<matplotlib.figure.Figure at 0x1c18ba4a20>"
      ]
     },
     "metadata": {},
     "output_type": "display_data"
    }
   ],
   "source": [
    "img = Image.open('images/train/1_106.tif')\n",
    "plt.imshow(img, cmap='gist_gray')"
   ]
  },
  {
   "cell_type": "code",
   "execution_count": 12,
   "metadata": {},
   "outputs": [
    {
     "data": {
      "text/plain": [
       "<matplotlib.image.AxesImage at 0x1c18e76b38>"
      ]
     },
     "execution_count": 12,
     "metadata": {},
     "output_type": "execute_result"
    },
    {
     "data": {
      "image/png": "[encoded data removed]",
      "text/plain": [
       "<matplotlib.figure.Figure at 0x1c18c4b208>"
      ]
     },
     "metadata": {},
     "output_type": "display_data"
    }
   ],
   "source": [
    "img = Image.open('images/train/1_106_mask.tif')\n",
    "plt.imshow(img, cmap='gist_gray')"
   ]
  },
  {
   "cell_type": "code",
   "execution_count": 13,
   "metadata": {},
   "outputs": [],
   "source": [
    "x = tf.placeholder(tf.float32,shape=[None,32,32,1])\n",
    "y = tf.placeholder(tf.float32, shape=[None, 32,32, 1])"
   ]
  },
  {
   "cell_type": "code",
   "execution_count": 14,
   "metadata": {},
   "outputs": [],
   "source": [
    "hold_prob = tf.placeholder(tf.float32)"
   ]
  },
  {
   "cell_type": "code",
   "execution_count": 15,
   "metadata": {},
   "outputs": [],
   "source": [
    "def init_weights(shape):\n",
    "    init_random_dist = tf.truncated_normal(shape, stddev=0.1)\n",
    "    return tf.Variable(init_random_dist)\n",
    "\n",
    "def init_bias(shape):\n",
    "    init_bias_vals = tf.constant(0.1, shape=shape)\n",
    "    return tf.Variable(init_bias_vals)\n",
    "\n",
    "def conv2d(x, W):\n",
    "    return tf.nn.conv2d(x, W, strides=[1, 1, 1, 1], padding='SAME')\n",
    "\n",
    "def max_pool_2by2(x):\n",
    "    return tf.nn.max_pool(x, ksize=[1, 2, 2, 1],\n",
    "                          strides=[1, 2, 2, 1], padding='SAME')\n",
    "\n",
    "def convolutional_layer(input_x, shape):\n",
    "    W = init_weights(shape)\n",
    "    b = init_bias([shape[3]])\n",
    "    return tf.nn.relu(conv2d(input_x, W) + b)\n",
    "\n",
    "def normal_full_layer(input_layer, size):\n",
    "    input_size = int(input_layer.get_shape()[1])\n",
    "    W = init_weights([input_size, size])\n",
    "    b = init_bias([size])\n",
    "    return tf.matmul(input_layer, W) + b\n",
    "\n",
    "def shufled(a, b):\n",
    "    assert len(a) == len(b)\n",
    "    p = np.random.permutation(len(a))\n",
    "    return a[p], b[p]"
   ]
  },
  {
   "cell_type": "code",
   "execution_count": 16,
   "metadata": {},
   "outputs": [],
   "source": [
    "def upsampling_2D(tensor,  size=(2, 2)):\n",
    "    \"\"\"Upsample/Rescale `tensor` by size\n",
    "    Args:\n",
    "        tensor (4-D Tensor): (N, H, W, C)\n",
    "        name (str): name of upsampling operations\n",
    "        size (tuple, optional): (height_multiplier, width_multiplier)\n",
    "            (default: (2, 2))\n",
    "    Returns:\n",
    "        output (4-D Tensor): (N, h_multiplier * H, w_multiplier * W, C)\n",
    "    \"\"\"\n",
    "    H, W, _ = tensor.get_shape().as_list()[1:]\n",
    "\n",
    "    H_multi, W_multi = size\n",
    "    target_H = H * H_multi\n",
    "    target_W = W * W_multi\n",
    "\n",
    "    return tf.image.resize_nearest_neighbor(tensor, (target_H, target_W))"
   ]
  },
  {
   "cell_type": "code",
   "execution_count": 17,
   "metadata": {},
   "outputs": [],
   "source": [
    "def upsample_concat(inputA, input_B):\n",
    "    \"\"\"Upsample `inputA` and concat with `input_B`\n",
    "    Args:\n",
    "        input_A (4-D Tensor): (N, H, W, C)\n",
    "        input_B (4-D Tensor): (N, 2*H, 2*H, C2)\n",
    "        name (str): name of the concat operation\n",
    "    Returns:\n",
    "        output (4-D Tensor): (N, 2*H, 2*W, C + C2)\n",
    "    \"\"\"\n",
    "    upsample = upsampling_2D(inputA, size=(2, 2))\n",
    "\n",
    "    return tf.concat([upsample, input_B], axis=-1)"
   ]
  },
  {
   "cell_type": "code",
   "execution_count": null,
   "metadata": {},
   "outputs": [],
   "source": [
    "# taken form  https://github.com/kkweon/UNet-in-Tensorflow/blob/master/train.py \n",
    "# but I renabed it from UIO_ into \"dice_score\" since \n",
    "# it return the value 2 * area of overlap / (area of overlap + area of union)\n",
    "# but IOU is area of overlap / area of union\n",
    "# IoU metric tends to penalize single instances of bad classification more than the dice score\n",
    "def dice_score(y_pred, y_true): # same as F1 score\n",
    "    \"\"\"Returns a dice score\n",
    "    intesection = y_pred.flatten() * y_true.flatten()\n",
    "    Then, IOU = 2 * intersection / (y_pred.sum() + y_true.sum() + 1e-7) + 1e-7\n",
    "    Args:\n",
    "        y_pred (4-D array): (N, H, W, 1)\n",
    "        y_true (4-D array): (N, H, W, 1)\n",
    "    Returns:\n",
    "        float: IOU score\n",
    "    \"\"\"\n",
    "    H, W, _ = y_pred.get_shape().as_list()[1:]\n",
    "\n",
    "    pred_flat = tf.reshape(y_pred, [-1, H * W])\n",
    "    true_flat = tf.reshape(y_true, [-1, H * W])\n",
    "\n",
    "    intersection = 2 * tf.reduce_sum(pred_flat * true_flat, axis=1) + 1e-7\n",
    "    denominator = tf.reduce_sum(pred_flat, axis=1) + tf.reduce_sum(true_flat, axis=1) + 1e-7\n",
    "\n",
    "    return tf.reduce_mean(intersection / denominator)"
   ]
  },
  {
   "cell_type": "code",
   "execution_count": null,
   "metadata": {},
   "outputs": [],
   "source": [
    "# Creating layers\n",
    "convo_1 = convolutional_layer(x,shape=[3,3,1,32])\n",
    "convo_1_pooling = max_pool_2by2(convo_1)"
   ]
  },
  {
   "cell_type": "code",
   "execution_count": null,
   "metadata": {},
   "outputs": [],
   "source": [
    "convo_2 = convolutional_layer(convo_1_pooling,shape=[3,3,32,64]) # images 16*16\n",
    "#convo_2_pooling = max_pool_2by2(convo_2)"
   ]
  },
  {
   "cell_type": "code",
   "execution_count": null,
   "metadata": {},
   "outputs": [],
   "source": [
    "up_1 = upsample_concat(convo_2, convo_1) # image 32*32\n",
    "convo_3 = convolutional_layer(up_1,shape=[3,3,96,32])"
   ]
  },
  {
   "cell_type": "code",
   "execution_count": null,
   "metadata": {},
   "outputs": [],
   "source": [
    "# training prediction\n",
    "pred = tf.layers.conv2d(convo_3, 1, (1, 1), activation=tf.nn.sigmoid, padding='same')"
   ]
  },
  {
   "cell_type": "code",
   "execution_count": null,
   "metadata": {},
   "outputs": [],
   "source": [
    "loss = -dice_score(pred, y)\n",
    "optim = tf.train.AdamOptimizer(learning_rate=0.001)\n",
    "train = optim.minimize(loss)"
   ]
  },
  {
   "cell_type": "code",
   "execution_count": null,
   "metadata": {},
   "outputs": [],
   "source": [
    "init = tf.global_variables_initializer()\n",
    "\n",
    "sess = tf.InteractiveSession()\n",
    "sess.run(tf.global_variables_initializer())\n",
    "\n",
    "loss_train = []\n",
    "loss_test = []\n",
    "for i in range(1500):\n",
    "        #offset = (i * 100) % (ims_train.shape[0] - 100) # 100 is the batch size\n",
    "        #batch_x = ims_train[offset:(offset + 100), :]\n",
    "        #batch_y = ms_train[offset:(offset + 100), :]\n",
    "        if i%8 == 0:\n",
    "            ims_train, ms_train = shufled(ims_train, ms_train)\n",
    "        offset = (i * 64) % ims_train.shape[0] # 64 is the batch size\n",
    "        batch_x = ims_train[offset:(offset + 64), :]\n",
    "        batch_y = ms_train[offset:(offset + 64), :]\n",
    "        _, l, predictions = sess.run([train, loss, pred], feed_dict={x: batch_x, y: batch_y})\n",
    "        \n",
    "        # PRINT OUT A MESSAGE EVERY 50 STEPS\n",
    "        if i%50 == 0:\n",
    "            loss_train.append(l)\n",
    "            print(\"Minibatch loss at step %d: %f\" % (i, l))\n",
    "            print('Currently on step {}'.format(i))\n",
    "            print('Test loss:')\n",
    "            # Test the Train Model\n",
    "            test_l = sess.run(loss, feed_dict={x:ims_test,y:ms_test,hold_prob:1.0})\n",
    "            print(test_l)\n",
    "            print('\\n')\n",
    "            loss_test.append(test_l)\n",
    "            \n",
    "output= sess.run(pred,feed_dict={x: ims_test})\n",
    "#final_train_loss = sess.run(loss, feed_dict={x:ims_train,y:ms_train,hold_prob:1.0})\n",
    "final_test_loss = sess.run(loss, feed_dict={x:ims_test,y:ms_test,hold_prob:1.0})\n",
    "#print('Final train loss: ', final_train_loss)\n",
    "print('Final test loss: ', final_test_loss)"
   ]
  },
  {
   "cell_type": "code",
   "execution_count": null,
   "metadata": {},
   "outputs": [],
   "source": [
    "fig, ax = plt.subplots(1,1)\n",
    "ax.plot(loss_train, color='b', label=\"Training loss\")\n",
    "ax.plot(loss_test, color='r', label=\"validation loss\",axes =ax)\n",
    "legend = ax.legend(loc='best', shadow=True)"
   ]
  },
  {
   "cell_type": "code",
   "execution_count": null,
   "metadata": {},
   "outputs": [],
   "source": [
    "test_result = output >= 0.5"
   ]
  },
  {
   "cell_type": "code",
   "execution_count": null,
   "metadata": {},
   "outputs": [],
   "source": [
    "fig, axes = plt.subplots(nrows=1, ncols=2)\n",
    "axes[0].imshow(test_result[3].reshape(32, 32),cmap='gist_gray')\n",
    "axes[0].set_title('Predicte Mask')\n",
    "\n",
    "axes[1].imshow(ms_test[3].reshape(32, 32),cmap='gist_gray')\n",
    "axes[1].set_title('True Mask')"
   ]
  },
  {
   "cell_type": "code",
   "execution_count": null,
   "metadata": {},
   "outputs": [],
   "source": [
    "for i in range(10):\n",
    "    fig, axes = plt.subplots(nrows=1, ncols=2)\n",
    "    axes[0].imshow(test_result[i].reshape(32, 32),cmap='gist_gray')\n",
    "    axes[0].set_title('Predicte Mask')\n",
    "\n",
    "    axes[1].imshow(ms_test[i].reshape(32, 32),cmap='gist_gray')\n",
    "    axes[1].set_title('True Mask')"
   ]
  },
  {
   "cell_type": "code",
   "execution_count": null,
   "metadata": {},
   "outputs": [],
   "source": [
    "# CNN with 2+ layers\n",
    "\n",
    "\n",
    "x = tf.placeholder(tf.float32,shape=[None,32,32,1])\n",
    "y = tf.placeholder(tf.float32, shape=[None, 32,32, 1])\n",
    "\n",
    "convo_1 = convolutional_layer(x,shape=[3,3,1,16])\n",
    "convo_1_2 = convolutional_layer(convo_1,shape=[3,3,16,16])\n",
    "convo_1_pooling = max_pool_2by2(convo_1_2)\n",
    "\n",
    "convo_2 = convolutional_layer(convo_1_pooling,shape=[3,3,16,32]) # images 16*16\n",
    "\n",
    "up_1 = upsample_concat(convo_2, convo_1_2) # image 32*32\n",
    "convo_3_0 = convolutional_layer(up_1,shape=[3,3,48,16])\n",
    "convo_3 = convolutional_layer(convo_3_0,shape=[3,3,16,16])\n",
    "\n",
    "pred = tf.layers.conv2d(convo_3, 1, (1, 1), activation=tf.nn.sigmoid, padding='same')\n",
    "\n",
    "loss = -dice_score(pred, y)\n",
    "optim = tf.train.AdamOptimizer(learning_rate=0.001)\n",
    "train = optim.minimize(loss)"
   ]
  },
  {
   "cell_type": "code",
   "execution_count": null,
   "metadata": {},
   "outputs": [],
   "source": [
    "init = tf.global_variables_initializer()\n",
    "sess = tf.InteractiveSession()\n",
    "sess.run(tf.global_variables_initializer())\n",
    "\n",
    "loss_train = []\n",
    "loss_test = []\n",
    "for i in range(1500): # 8 batches for 1 epoch\n",
    "        if i%8 == 0:\n",
    "            ims_train, ms_train = shufled(ims_train, ms_train)\n",
    "        offset = (i * 64) % ims_train.shape[0] # 64 is the batch size\n",
    "        batch_x = ims_train[offset:(offset + 64), :]\n",
    "        batch_y = ms_train[offset:(offset + 64), :]\n",
    "        _, l, predictions = sess.run([train, loss, pred], feed_dict={x: batch_x, y: batch_y})\n",
    "        \n",
    "        # PRINT OUT A MESSAGE EVERY 50 STEPS\n",
    "        if i%50 == 0:\n",
    "            loss_train.append(l)\n",
    "            print(\"Minibatch loss at step %d: %f\" % (i, l))\n",
    "            print('Currently on step {}'.format(i))\n",
    "            print('Test loss:')\n",
    "            # Test the Train Model\n",
    "            test_l = sess.run(loss, feed_dict={x:ims_test,y:ms_test,hold_prob:1.0})\n",
    "            print(test_l)\n",
    "            print('\\n')\n",
    "            loss_test.append(test_l)\n",
    "            \n",
    "output= sess.run(pred,feed_dict={x: ims_test})\n",
    "#final_train_loss = sess.run(loss, feed_dict={x:ims_train,y:ms_train,hold_prob:1.0})\n",
    "final_test_loss = sess.run(loss, feed_dict={x:ims_test,y:ms_test,hold_prob:1.0})\n",
    "#print('Final train loss: ', final_train_loss)\n",
    "print('Final test loss: ', final_test_loss)"
   ]
  },
  {
   "cell_type": "code",
   "execution_count": null,
   "metadata": {},
   "outputs": [],
   "source": [
    "fig, ax = plt.subplots(1,1)\n",
    "ax.plot(loss_train, color='b', label=\"Training loss\")\n",
    "ax.plot(loss_test, color='r', label=\"validation loss\",axes =ax)\n",
    "legend = ax.legend(loc='best', shadow=True)"
   ]
  },
  {
   "cell_type": "code",
   "execution_count": null,
   "metadata": {},
   "outputs": [],
   "source": [
    "test_result = output >= 0.5\n",
    "\n",
    "fig, axes = plt.subplots(nrows=1, ncols=2)\n",
    "axes[0].imshow(test_result[3].reshape(32, 32),cmap='gist_gray')\n",
    "axes[0].set_title('Predicte Mask')\n",
    "\n",
    "axes[1].imshow(ms_test[3].reshape(32, 32),cmap='gist_gray')\n",
    "axes[1].set_title('True Mask')"
   ]
  },
  {
   "cell_type": "code",
   "execution_count": null,
   "metadata": {},
   "outputs": [],
   "source": [
    "for i in range(10):\n",
    "    fig, axes = plt.subplots(nrows=1, ncols=2)\n",
    "    axes[0].imshow(test_result[i].reshape(32, 32),cmap='gist_gray')\n",
    "    axes[0].set_title('Predicte Mask')\n",
    "\n",
    "    axes[1].imshow(ms_test[i].reshape(32, 32),cmap='gist_gray')\n",
    "    axes[1].set_title('True Mask')"
   ]
  },
  {
   "cell_type": "code",
   "execution_count": null,
   "metadata": {},
   "outputs": [],
   "source": [
    "# Add optimization DROPOUT to avoid overfitting\n",
    "\n",
    "hold_prob = tf.placeholder(tf.float32)\n",
    "\n",
    "x = tf.placeholder(tf.float32,shape=[None,32,32,1])\n",
    "y = tf.placeholder(tf.float32, shape=[None, 32,32, 1])\n",
    "\n",
    "convo_1 = convolutional_layer(x,shape=[3,3,1,16])\n",
    "dropout_0 = tf.nn.dropout(convo_1,keep_prob=hold_prob)\n",
    "convo_1_2 = convolutional_layer(dropout_0,shape=[3,3,16,16])\n",
    "convo_1_pooling = max_pool_2by2(convo_1_2)\n",
    "\n",
    "dropout_1 = tf.nn.dropout(convo_1_pooling,keep_prob=hold_prob)\n",
    "\n",
    "convo_2 = convolutional_layer(dropout_1,shape=[3,3,16,32]) # images 16*16\n",
    "\n",
    "dropout_2 = tf.nn.dropout(convo_2,keep_prob=hold_prob)\n",
    "\n",
    "up_1 = upsample_concat(dropout_2, convo_1_2) # image 32*32\n",
    "convo_3_0 = convolutional_layer(up_1,shape=[3,3,48,16])\n",
    "dropout_3 = tf.nn.dropout(convo_3_0,keep_prob=hold_prob)\n",
    "convo_3 = convolutional_layer(dropout_3,shape=[3,3,16,16])\n",
    "\n",
    "pred = tf.layers.conv2d(convo_3, 1, (1, 1), activation=tf.nn.sigmoid, padding='same')\n",
    "\n",
    "loss = -dice_score(pred, y)\n",
    "optim = tf.train.AdamOptimizer(learning_rate=0.0005)\n",
    "train = optim.minimize(loss)"
   ]
  },
  {
   "cell_type": "code",
   "execution_count": null,
   "metadata": {},
   "outputs": [],
   "source": [
    "init = tf.global_variables_initializer()\n",
    "sess = tf.InteractiveSession()\n",
    "sess.run(tf.global_variables_initializer())\n",
    "\n",
    "loss_train = []\n",
    "loss_test = []\n",
    "for i in range(2500): # 8 batches for 1 epoch\n",
    "        if i%8 == 0:\n",
    "            ims_train, ms_train = shufled(ims_train, ms_train)\n",
    "        offset = (i * 64) % ims_train.shape[0] # 64 is the batch size\n",
    "        batch_x = ims_train[offset:(offset + 64), :]\n",
    "        batch_y = ms_train[offset:(offset + 64), :]\n",
    "        _, l, predictions = sess.run([train, loss, pred], feed_dict={x: batch_x, y: batch_y, hold_prob:0.7})\n",
    "        \n",
    "        # PRINT OUT A MESSAGE EVERY 50 STEPS\n",
    "        if i%50 == 0:\n",
    "            loss_train.append(l)\n",
    "            print(\"Minibatch loss at step %d: %f\" % (i, l))\n",
    "            print('Currently on step {}'.format(i))\n",
    "            print('Test loss:')\n",
    "            # Test the Train Model\n",
    "            test_l = sess.run(loss, feed_dict={x:ims_test,y:ms_test,hold_prob:1.0})\n",
    "            print(test_l)\n",
    "            print('\\n')\n",
    "            loss_test.append(test_l)\n",
    "            \n",
    "output= sess.run(pred,feed_dict={x: ims_test, hold_prob:1.0})\n",
    "#final_train_loss = sess.run(loss, feed_dict={x:ims_train,y:ms_train,hold_prob:1.0})\n",
    "final_test_loss = sess.run(loss, feed_dict={x:ims_test,y:ms_test,hold_prob:1.0})\n",
    "#print('Final train loss: ', final_train_loss)\n",
    "print('Final test loss: ', final_test_loss)"
   ]
  },
  {
   "cell_type": "code",
   "execution_count": null,
   "metadata": {},
   "outputs": [],
   "source": [
    "fig, ax = plt.subplots(1,1)\n",
    "ax.plot(loss_train, color='b', label=\"Training loss\")\n",
    "ax.plot(loss_test, color='r', label=\"validation loss\",axes =ax)\n",
    "legend = ax.legend(loc='best', shadow=True)"
   ]
  },
  {
   "cell_type": "code",
   "execution_count": null,
   "metadata": {},
   "outputs": [],
   "source": [
    "test_result = output >= 0.5  # predicted masks\n",
    "\n",
    "for i in range(10):\n",
    "    fig, axes = plt.subplots(nrows=1, ncols=2)\n",
    "    axes[0].imshow(test_result[i].reshape(32, 32),cmap='gist_gray')\n",
    "    axes[0].set_title('Predicte Mask')\n",
    "\n",
    "    axes[1].imshow(ms_test[i].reshape(32, 32),cmap='gist_gray')\n",
    "    axes[1].set_title('True Mask')"
   ]
  },
  {
   "cell_type": "code",
   "execution_count": null,
   "metadata": {},
   "outputs": [],
   "source": [
    "# Use Higher-resol images\n",
    "\n",
    "train = pd.read_csv(\"tr_data.csv\")\n",
    "n_train = train.shape[0]\n",
    "\n",
    "test = pd.read_csv(\"test_data.csv\")\n",
    "n_test = test.shape[0]\n",
    "\n",
    "ims_train = []\n",
    "for i in train['image']:\n",
    "    a = Image.open('train_subset/' + i)\n",
    "    a = a.resize((64,64))\n",
    "    a=np.array(a)\n",
    "    ims_train.append(a)\n",
    "ims_train = np.array(ims_train)\n",
    "ims_train = ims_train.reshape(-1, 64,64, 1)\n",
    "ims_train = ims_train/255\n",
    "ims_train = np.array( ims_train, dtype=np.float32 ) \n",
    "\n",
    "ms_train = []\n",
    "for i in train['mask']:\n",
    "    a = Image.open('train_subset/' + i)\n",
    "    a = a.resize((64,64))\n",
    "    a=np.array(a)\n",
    "    ms_train.append(a)\n",
    "ms_train = np.array(ms_train)\n",
    "ms_train = ms_train.reshape(-1, 64,64, 1)\n",
    "ms_train = ms_train/255\n",
    "ms_train = np.array(ms_train, dtype=np.float32 )"
   ]
  },
  {
   "cell_type": "code",
   "execution_count": null,
   "metadata": {},
   "outputs": [],
   "source": [
    "plt.imshow(ims_train[1].reshape(64,64),cmap='gist_gray')"
   ]
  },
  {
   "cell_type": "code",
   "execution_count": null,
   "metadata": {},
   "outputs": [],
   "source": [
    "ims_test = []\n",
    "for i in test['image']:\n",
    "    a = Image.open('train_subset/' + i)\n",
    "    a = a.resize((64,64))\n",
    "    a=np.array(a)\n",
    "    ims_test.append(a)\n",
    "ims_test = np.array(ims_test)\n",
    "ims_test = ims_test.reshape(-1, 64,64,1)\n",
    "ims_test = ims_test/255\n",
    "ims_test = np.array( ims_test, dtype=np.float32 ) \n",
    "ims_test.shape\n",
    "\n",
    "ms_test = []\n",
    "for i in test['mask']:\n",
    "    a = Image.open('train_subset/' + i)\n",
    "    a = a.resize((64,64))\n",
    "    a=np.array(a)\n",
    "    ms_test.append(a)\n",
    "ms_test = np.array(ms_test)\n",
    "ms_test = ms_test.reshape(-1, 64,64,1)\n",
    "ms_test = ms_test/255\n",
    "ms_test = np.array(ms_test, dtype=np.float32 ) \n",
    "ms_test.shape"
   ]
  },
  {
   "cell_type": "code",
   "execution_count": null,
   "metadata": {},
   "outputs": [],
   "source": [
    "x = tf.placeholder(tf.float32,shape=[None,64,64,1])\n",
    "y = tf.placeholder(tf.float32, shape=[None, 64,64, 1])\n",
    "\n",
    "convo_1 = convolutional_layer(x,shape=[3,3,1,16])\n",
    "convo_1_0_pooling = max_pool_2by2(convo_1)\n",
    "dropout_0 = tf.nn.dropout(convo_1_0_pooling,keep_prob=hold_prob)\n",
    "\n",
    "convo_1_2 = convolutional_layer(dropout_0,shape=[3,3,16,16])\n",
    "convo_1_pooling = max_pool_2by2(convo_1_2)\n",
    "\n",
    "dropout_1 = tf.nn.dropout(convo_1_pooling,keep_prob=hold_prob)\n",
    "\n",
    "convo_2 = convolutional_layer(dropout_1,shape=[3,3,16,32]) # images 16*16\n",
    "\n",
    "dropout_2 = tf.nn.dropout(convo_2,keep_prob=hold_prob)\n",
    "\n",
    "up_1 = upsample_concat(dropout_2, convo_1_2) # image 32*32\n",
    "convo_3_0 = convolutional_layer(up_1,shape=[3,3,48,16])\n",
    "dropout_3 = tf.nn.dropout(convo_3_0,keep_prob=hold_prob)\n",
    "\n",
    "up_2 = upsample_concat(dropout_3, convo_1) # image 32*32\n",
    "convo_3 = convolutional_layer(up_2,shape=[3,3,32,16])\n",
    "\n",
    "pred = tf.layers.conv2d(convo_3, 1, (1, 1), activation=tf.nn.sigmoid, padding='same')\n",
    "\n",
    "loss = -dice_score(pred, y)\n",
    "optim = tf.train.AdamOptimizer(learning_rate=0.0005)\n",
    "train = optim.minimize(loss)"
   ]
  },
  {
   "cell_type": "code",
   "execution_count": null,
   "metadata": {},
   "outputs": [],
   "source": [
    "init = tf.global_variables_initializer()\n",
    "sess = tf.InteractiveSession()\n",
    "sess.run(tf.global_variables_initializer())\n",
    "\n",
    "loss_train = []\n",
    "loss_test = []\n",
    "for i in range(2500): # 8 batches for 1 epoch\n",
    "        if i%8 == 0:\n",
    "            ims_train, ms_train = shufled(ims_train, ms_train)\n",
    "        offset = (i * 64) % ims_train.shape[0] # 64 is the batch size\n",
    "        batch_x = ims_train[offset:(offset + 64), :]\n",
    "        batch_y = ms_train[offset:(offset + 64), :]\n",
    "        _, l, predictions = sess.run([train, loss, pred], feed_dict={x: batch_x, y: batch_y, hold_prob:0.7})\n",
    "        \n",
    "        # PRINT OUT A MESSAGE EVERY 50 STEPS\n",
    "        if i%50 == 0:\n",
    "            loss_train.append(l)\n",
    "            print(\"Minibatch loss at step %d: %f\" % (i, l))\n",
    "            print('Currently on step {}'.format(i))\n",
    "            print('Test loss:')\n",
    "            # Test the Train Model\n",
    "            test_l = sess.run(loss, feed_dict={x:ims_test,y:ms_test,hold_prob:1.0})\n",
    "            print(test_l)\n",
    "            print('\\n')\n",
    "            loss_test.append(test_l)\n",
    "            \n",
    "output= sess.run(pred,feed_dict={x: ims_test, hold_prob:1.0})\n",
    "final_test_loss = sess.run(loss, feed_dict={x:ims_test,y:ms_test,hold_prob:1.0})\n",
    "print('Final test loss: ', final_test_loss)"
   ]
  },
  {
   "cell_type": "code",
   "execution_count": null,
   "metadata": {},
   "outputs": [],
   "source": [
    "fig, ax = plt.subplots(1,1)\n",
    "ax.plot(loss_train, color='b', label=\"Training loss\")\n",
    "ax.plot(loss_test, color='r', label=\"validation loss\",axes =ax)\n",
    "legend = ax.legend(loc='best', shadow=True)"
   ]
  },
  {
   "cell_type": "code",
   "execution_count": null,
   "metadata": {},
   "outputs": [],
   "source": [
    "test_result = output >= 0.5  # predicted masks\n",
    "\n",
    "for i in range(10):\n",
    "    fig, axes = plt.subplots(nrows=1, ncols=2)\n",
    "    axes[0].imshow(test_result[i].reshape(64,64),cmap='gist_gray')\n",
    "    axes[0].set_title('Predicte Mask')\n",
    "\n",
    "    axes[1].imshow(ms_test[i].reshape(64,64),cmap='gist_gray')\n",
    "    axes[1].set_title('True Mask')"
   ]
  },
  {
   "cell_type": "code",
   "execution_count": null,
   "metadata": {},
   "outputs": [],
   "source": [
    "x = tf.placeholder(tf.float32,shape=[None,64,64,1])\n",
    "y = tf.placeholder(tf.float32, shape=[None, 64,64, 1])\n",
    "\n",
    "convo_0 = convolutional_layer(x,shape=[3,3,1,16])\n",
    "convo_1 = convolutional_layer(convo_0,shape=[3,3,16,16])\n",
    "convo_1_0_pooling = max_pool_2by2(convo_1)\n",
    "dropout_0 = tf.nn.dropout(convo_1_0_pooling,keep_prob=hold_prob)\n",
    "\n",
    "convo_1_2 = convolutional_layer(dropout_0,shape=[3,3,16,16])\n",
    "convo_1_pooling = max_pool_2by2(convo_1_2)\n",
    "\n",
    "dropout_1 = tf.nn.dropout(convo_1_pooling,keep_prob=hold_prob)\n",
    "\n",
    "convo_2 = convolutional_layer(dropout_1,shape=[3,3,16,32]) # images 16*16\n",
    "\n",
    "dropout_2 = tf.nn.dropout(convo_2,keep_prob=hold_prob)\n",
    "\n",
    "up_1 = upsample_concat(dropout_2, convo_1_2) # image 32*32\n",
    "convo_3_0 = convolutional_layer(up_1,shape=[3,3,48,16])\n",
    "dropout_3 = tf.nn.dropout(convo_3_0,keep_prob=hold_prob)\n",
    "\n",
    "up_2 = upsample_concat(dropout_3, convo_1) # image 32*32\n",
    "convo_3 = convolutional_layer(up_2,shape=[3,3,32,16])\n",
    "convo_4 = convolutional_layer(convo_3,shape=[3,3,16,16])\n",
    "\n",
    "pred = tf.layers.conv2d(convo_3, 1, (1, 1), activation=tf.nn.sigmoid, padding='same')\n",
    "\n",
    "loss = -dice_score(pred, y)\n",
    "optim = tf.train.AdamOptimizer(learning_rate=0.0005)\n",
    "train = optim.minimize(loss)"
   ]
  },
  {
   "cell_type": "code",
   "execution_count": null,
   "metadata": {},
   "outputs": [],
   "source": [
    "init = tf.global_variables_initializer()\n",
    "sess = tf.InteractiveSession()\n",
    "sess.run(tf.global_variables_initializer())\n",
    "\n",
    "loss_train = []\n",
    "loss_test = []\n",
    "for i in range(2500): # 8 batches for 1 epoch\n",
    "        if i%8 == 0:\n",
    "            ims_train, ms_train = shufled(ims_train, ms_train)\n",
    "        offset = (i * 64) % ims_train.shape[0] # 64 is the batch size\n",
    "        batch_x = ims_train[offset:(offset + 64), :]\n",
    "        batch_y = ms_train[offset:(offset + 64), :]\n",
    "        _, l, predictions = sess.run([train, loss, pred], feed_dict={x: batch_x, y: batch_y, hold_prob:0.7})\n",
    "        \n",
    "        # PRINT OUT A MESSAGE EVERY 50 STEPS\n",
    "        if i%50 == 0:\n",
    "            loss_train.append(l)\n",
    "            print(\"Minibatch loss at step %d: %f\" % (i, l))\n",
    "            print('Currently on step {}'.format(i))\n",
    "            print('Test loss:')\n",
    "            # Test the Train Model\n",
    "            test_l = sess.run(loss, feed_dict={x:ims_test,y:ms_test,hold_prob:1.0})\n",
    "            print(test_l)\n",
    "            print('\\n')\n",
    "            loss_test.append(test_l)\n",
    "            \n",
    "output= sess.run(pred,feed_dict={x: ims_test, hold_prob:1.0})\n",
    "final_test_loss = sess.run(loss, feed_dict={x:ims_test,y:ms_test,hold_prob:1.0})\n",
    "print('Final test loss: ', final_test_loss)\n"
   ]
  },
  {
   "cell_type": "code",
   "execution_count": null,
   "metadata": {},
   "outputs": [],
   "source": [
    "fig, ax = plt.subplots(1,1)\n",
    "ax.plot(loss_train, color='b', label=\"Training loss\")\n",
    "ax.plot(loss_test, color='r', label=\"validation loss\",axes =ax)\n",
    "legend = ax.legend(loc='best', shadow=True)"
   ]
  },
  {
   "cell_type": "code",
   "execution_count": null,
   "metadata": {},
   "outputs": [],
   "source": [
    "test_result = output >= 0.5  # predicted masks\n",
    "for i in range(10):\n",
    "    fig, axes = plt.subplots(nrows=1, ncols=2)\n",
    "    axes[0].imshow(test_result[i].reshape(64,64),cmap='gist_gray')\n",
    "    axes[0].set_title('Predicte Mask')\n",
    "\n",
    "    axes[1].imshow(ms_test[i].reshape(64,64),cmap='gist_gray')\n",
    "    axes[1].set_title('True Mask')"
   ]
  }
 ],
 "metadata": {
  "kernelspec": {
   "display_name": "hello-tensor",
   "language": "python",
   "name": "hello-tensor"
  },
  "language_info": {
   "codemirror_mode": {
    "name": "ipython",
    "version": 3
   },
   "file_extension": ".py",
   "mimetype": "text/x-python",
   "name": "python",
   "nbconvert_exporter": "python",
   "pygments_lexer": "ipython3",
   "version": "3.6.2"
  }
 },
 "nbformat": 4,
 "nbformat_minor": 2
}
